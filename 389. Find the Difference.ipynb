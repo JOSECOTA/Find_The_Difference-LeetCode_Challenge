{
 "cells": [
  {
   "cell_type": "code",
   "execution_count": 1,
   "id": "db1eeaa0",
   "metadata": {},
   "outputs": [],
   "source": [
    "def findTheDifference(s,t):\n",
    "        s1= sorted(s)\n",
    "        t1 = sorted(t)\n",
    "        \n",
    "        for i in range(len(s1)):\n",
    "            if s1[i] != t1[i]:\n",
    "                return t1[i]\n",
    "        return t1[-1]\n"
   ]
  },
  {
   "cell_type": "code",
   "execution_count": 2,
   "id": "7753bf35",
   "metadata": {},
   "outputs": [
    {
     "data": {
      "text/plain": [
       "'e'"
      ]
     },
     "execution_count": 2,
     "metadata": {},
     "output_type": "execute_result"
    }
   ],
   "source": [
    "findTheDifference('abcd','abcde')"
   ]
  },
  {
   "cell_type": "code",
   "execution_count": null,
   "id": "0b05261c",
   "metadata": {},
   "outputs": [],
   "source": []
  }
 ],
 "metadata": {
  "kernelspec": {
   "display_name": "Python 3 (ipykernel)",
   "language": "python",
   "name": "python3"
  },
  "language_info": {
   "codemirror_mode": {
    "name": "ipython",
    "version": 3
   },
   "file_extension": ".py",
   "mimetype": "text/x-python",
   "name": "python",
   "nbconvert_exporter": "python",
   "pygments_lexer": "ipython3",
   "version": "3.9.7"
  }
 },
 "nbformat": 4,
 "nbformat_minor": 5
}
